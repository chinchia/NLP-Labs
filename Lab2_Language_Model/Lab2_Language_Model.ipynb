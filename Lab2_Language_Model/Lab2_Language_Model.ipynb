{
 "cells": [
  {
   "cell_type": "code",
   "execution_count": 1,
   "metadata": {},
   "outputs": [],
   "source": [
    "import math, re\n",
    "from collections import Counter\n",
    "import numpy as np"
   ]
  },
  {
   "cell_type": "code",
   "execution_count": 2,
   "metadata": {},
   "outputs": [],
   "source": [
    "text = open('big.txt').read()"
   ]
  },
  {
   "cell_type": "code",
   "execution_count": 3,
   "metadata": {},
   "outputs": [],
   "source": [
    "# tokenize text and get words list\n",
    "def words(text):\n",
    "    return re.findall(r'\\w+', text.lower())"
   ]
  },
  {
   "cell_type": "code",
   "execution_count": 4,
   "metadata": {},
   "outputs": [],
   "source": [
    "# get all bigrams\n",
    "def bigrams(text):\n",
    "    bi_words = []\n",
    "    word = words(text)\n",
    "    for i in range(len(word)-1):\n",
    "        bi_words.append(word[i] + ' ' + word[i+1])\n",
    "        \n",
    "    return bi_words"
   ]
  },
  {
   "cell_type": "code",
   "execution_count": 5,
   "metadata": {},
   "outputs": [],
   "source": [
    "# these are word-level 1-grams(unigram) and 2-grams(bigram)\n",
    "# count of the number of times they appeared\n",
    "uni_count = Counter(words(open('big.txt').read()))\n",
    "bi_count = Counter(bigrams(open('big.txt').read()))"
   ]
  },
  {
   "cell_type": "code",
   "execution_count": 6,
   "metadata": {},
   "outputs": [],
   "source": [
    "# call add1_smooth(\"He is\") or add1_smooth((\"He\", \"is\")) something like that...\n",
    "# retrun 1.306 (probability with add one smooth)\n",
    "V = len(list(uni_count.keys()))\n",
    "def add1_smooth(bigram):\n",
    "    bigram = bigram.lower()\n",
    "    bigram_list = bigram.split(' ')\n",
    "    '''\n",
    "    if bigram_list[0] not in uni_count.keys():\n",
    "        uni = 1\n",
    "        bi_count[bigram] += 1\n",
    "        \n",
    "        return np.log(bi_count[bigram] / uni)\n",
    "    \n",
    "    if bigram not in bi_count.keys():\n",
    "        bi = 1\n",
    "        uni_count[bigram_list[0]] += 1\n",
    "        \n",
    "        return np.log(bi / uni_count[bigram_list[0]])\n",
    "    '''\n",
    "    prob = (bi_count[bigram]+1) / (uni_count[bigram_list[0]]+V)\n",
    "    \n",
    "    return np.log(prob)"
   ]
  },
  {
   "cell_type": "code",
   "execution_count": 7,
   "metadata": {},
   "outputs": [],
   "source": [
    "# call sentence_prob(\"He is looking a new job.\")\n",
    "# retrun -33.306 (sentence probability)\n",
    "def sentence_prob(sentence):\n",
    "    bi_sentence = bigrams(sentence)\n",
    "    p = 0\n",
    "    for i in range(len(bi_sentence)):\n",
    "        prob = add1_smooth(bi_sentence[i])\n",
    "        p += prob\n",
    "    \n",
    "    return p"
   ]
  },
  {
   "cell_type": "code",
   "execution_count": 8,
   "metadata": {},
   "outputs": [
    {
     "name": "stdout",
     "output_type": "stream",
     "text": [
      "-40.05960380348264\n"
     ]
    }
   ],
   "source": [
    "if __name__ == \"__main__\":\n",
    "    lm = sentence_prob(\"He is looking a new job.\")\n",
    "    print(lm)"
   ]
  },
  {
   "cell_type": "code",
   "execution_count": 9,
   "metadata": {},
   "outputs": [
    {
     "data": {
      "text/plain": [
       "-73.31231309235406"
      ]
     },
     "execution_count": 9,
     "metadata": {},
     "output_type": "execute_result"
    }
   ],
   "source": [
    "sentence_prob(\"Are you interested about your offer for Marketing Assistant.\")"
   ]
  },
  {
   "cell_type": "code",
   "execution_count": 10,
   "metadata": {},
   "outputs": [
    {
     "data": {
      "text/plain": [
       "-69.14161877671302"
      ]
     },
     "execution_count": 10,
     "metadata": {},
     "output_type": "execute_result"
    }
   ],
   "source": [
    "sentence_prob(\"Are you interested in your offer for Marketing Assistant.\")"
   ]
  },
  {
   "cell_type": "code",
   "execution_count": 11,
   "metadata": {},
   "outputs": [
    {
     "data": {
      "text/plain": [
       "-43.4109360051506"
      ]
     },
     "execution_count": 11,
     "metadata": {},
     "output_type": "execute_result"
    }
   ],
   "source": [
    "sentence_prob(\"He is looking to a new job.\")"
   ]
  },
  {
   "cell_type": "code",
   "execution_count": 12,
   "metadata": {},
   "outputs": [
    {
     "data": {
      "text/plain": [
       "-41.880475561301886"
      ]
     },
     "execution_count": 12,
     "metadata": {},
     "output_type": "execute_result"
    }
   ],
   "source": [
    "sentence_prob(\"He is looking for a new job.\")"
   ]
  },
  {
   "cell_type": "code",
   "execution_count": null,
   "metadata": {},
   "outputs": [],
   "source": []
  }
 ],
 "metadata": {
  "kernelspec": {
   "display_name": "Python 3",
   "language": "python",
   "name": "python3"
  },
  "language_info": {
   "codemirror_mode": {
    "name": "ipython",
    "version": 3
   },
   "file_extension": ".py",
   "mimetype": "text/x-python",
   "name": "python",
   "nbconvert_exporter": "python",
   "pygments_lexer": "ipython3",
   "version": "3.7.5"
  }
 },
 "nbformat": 4,
 "nbformat_minor": 2
}
