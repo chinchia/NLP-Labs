{
 "cells": [
  {
   "cell_type": "markdown",
   "metadata": {},
   "source": [
    "### Spelling Corrector"
   ]
  },
  {
   "cell_type": "code",
   "execution_count": 1,
   "metadata": {},
   "outputs": [],
   "source": [
    "import re\n",
    "from collections import Counter\n",
    "from pprint import pprint"
   ]
  },
  {
   "cell_type": "code",
   "execution_count": 2,
   "metadata": {},
   "outputs": [],
   "source": [
    "text = open('big.txt').read()"
   ]
  },
  {
   "cell_type": "code",
   "execution_count": 3,
   "metadata": {},
   "outputs": [
    {
     "name": "stdout",
     "output_type": "stream",
     "text": [
      "There are 1115585 words in the text.\n"
     ]
    },
    {
     "data": {
      "text/plain": [
       "[('the', 79809),\n",
       " ('of', 40024),\n",
       " ('and', 38312),\n",
       " ('to', 28765),\n",
       " ('in', 22023),\n",
       " ('a', 21124),\n",
       " ('that', 12512),\n",
       " ('he', 12401),\n",
       " ('was', 11410),\n",
       " ('it', 10681)]"
      ]
     },
     "execution_count": 3,
     "metadata": {},
     "output_type": "execute_result"
    }
   ],
   "source": [
    "def words(text):\n",
    "    return re.findall(r'\\w+', text.lower()) # '\\w': get characters and numbers (splited digit by digit) in the text\n",
    "                                            # '\\w+': get only words and numbers (splited by space) in the text\n",
    "    \n",
    "word_count = Counter(words(text))\n",
    "N = sum(word_count.values())\n",
    "\n",
    "print('There are %d words in the text.' % N)\n",
    "word_count.most_common(10)"
   ]
  },
  {
   "cell_type": "code",
   "execution_count": 4,
   "metadata": {},
   "outputs": [
    {
     "name": "stdout",
     "output_type": "stream",
     "text": [
      "[('speling', 0.0), ('spelling', 3.585562731660967e-06), ('speeling', 0.0)]\n"
     ]
    }
   ],
   "source": [
    "def P(word):\n",
    "    # Probability of 'word'.\n",
    "    return word_count[word] / N\n",
    "\n",
    "print(list(map(lambda x: (x, P(x)), words('speling spelling speeling'))))"
   ]
  },
  {
   "cell_type": "code",
   "execution_count": 5,
   "metadata": {},
   "outputs": [],
   "source": [
    "class spelling_corrector(object):\n",
    "    \n",
    "    def __init__(self):\n",
    "        self.letters = bytearray(range(97,123)).decode(\"utf-8\")\n",
    "        self.WORDS = Counter(words(text))\n",
    "    \n",
    "    def edits1(self, word):\n",
    "        # All edits that are one edit away from 'word'.\n",
    "        splits     = [(word[:i], word[i:])    for i in range(len(word) + 1)]\n",
    "        deletes    = [L + R[1:]               for L, R in splits if R]\n",
    "        transposes = [L + R[1] + R[0] + R[2:] for L, R in splits if len(R)>1]\n",
    "        replaces   = [L + c + R[1:]           for L, R in splits if R for c in self.letters]\n",
    "        inserts    = [L + c + R               for L, R in splits for c in self.letters]\n",
    "        return set(deletes + transposes + replaces + inserts)\n",
    "\n",
    "    def edits2(self, word): \n",
    "        # All edits that are two edits away from 'word'.\n",
    "        return (e2 for e1 in self.edits1(word) for e2 in self.edits1(e1))\n",
    "\n",
    "    def known(self, words): \n",
    "        # The subset of 'words' that appear in the dictionary of WORDS.\n",
    "        return set(w for w in words if w in self.WORDS)\n",
    "\n",
    "    def candidates(self, word): \n",
    "        # Generate possible spelling corrections for word.\n",
    "        return (self.known([word]) or self.known(self.edits1(word)) or self.known(self.edits2(word)) or [word])\n",
    "\n",
    "    def correction(self, word): \n",
    "        # Most probable spelling correction for word.\n",
    "        return max(self.candidates(word), key=P)"
   ]
  },
  {
   "cell_type": "code",
   "execution_count": 6,
   "metadata": {},
   "outputs": [
    {
     "name": "stdout",
     "output_type": "stream",
     "text": [
      "speling --> spelling\n",
      "korrectud --> corrected\n"
     ]
    }
   ],
   "source": [
    "sc = spelling_corrector()\n",
    "\n",
    "print('speling -->', sc.correction('speling'))\n",
    "print('korrectud -->', sc.correction('korrectud'))"
   ]
  },
  {
   "cell_type": "markdown",
   "metadata": {},
   "source": [
    "### Practice : deal with fusion errors and multi-token errors"
   ]
  },
  {
   "cell_type": "code",
   "execution_count": 7,
   "metadata": {},
   "outputs": [],
   "source": [
    "class spelling_corrector(object):\n",
    "    \n",
    "    def __init__(self):\n",
    "        self.letters = bytearray(range(97,123)).decode(\"utf-8\")\n",
    "        self.WORDS = Counter(words(text))\n",
    "    \n",
    "    def edits1(self, word):\n",
    "        # All edits that are one edit away from 'word'.\n",
    "        splits     = [(word[:i], word[i:])    for i in range(len(word) + 1)]                \n",
    "        deletes    = [L + R[1:]               for L, R in splits if R]\n",
    "        transposes = [L + R[1] + R[0] + R[2:] for L, R in splits if len(R)>1]\n",
    "        replaces   = [L + c + R[1:]           for L, R in splits if R for c in self.letters]\n",
    "        inserts    = [L + c + R               for L, R in splits for c in self.letters]\n",
    "        return set(deletes + transposes + replaces + inserts)\n",
    "\n",
    "    def edits2(self, word): \n",
    "        # All edits that are two edits away from 'word'.\n",
    "        return (e2 for e1 in self.edits1(word) for e2 in self.edits1(e1))\n",
    "\n",
    "    def known(self, words): \n",
    "        # The subset of 'words' that appear in the dictionary of WORDS.\n",
    "        return set(w for w in words if w in self.WORDS)\n",
    "\n",
    "    def candidates(self, word): \n",
    "        # Generate possible spelling corrections for word.\n",
    "        return (self.known([word]) or self.known(self.edits1(word)) or self.known(self.edits2(word)) or [word])\n",
    "\n",
    "    def correction(self, word): \n",
    "        # Most probable spelling correction for word.\n",
    "        word = \"\".join(word.split())\n",
    "        \n",
    "        if word in self.WORDS:\n",
    "            return word\n",
    "\n",
    "        splits = [(word[:i], word[i:]) for i in range(len(word) + 1)]\n",
    "        \n",
    "        correction = []\n",
    "        for i in range(len(splits)):\n",
    "            if splits[i][0] in self.WORDS and splits[i][1] in self.WORDS:\n",
    "                correction.append(splits[i][0])\n",
    "                correction.append(splits[i][1])\n",
    "        correction = ' '.join(correction)\n",
    "        \n",
    "        if len(correction) != 0:\n",
    "            return correction\n",
    "        \n",
    "        return max(self.candidates(word), key=P)"
   ]
  },
  {
   "cell_type": "code",
   "execution_count": 8,
   "metadata": {},
   "outputs": [
    {
     "name": "stdout",
     "output_type": "stream",
     "text": [
      "speling --> spelling\n",
      "korrectud --> corrected\n",
      "taketo --> take to\n",
      "mor efun --> more fun\n",
      "with out --> without\n"
     ]
    }
   ],
   "source": [
    "sc = spelling_corrector()\n",
    "\n",
    "print('speling -->', sc.correction('speling'))\n",
    "print('korrectud -->', sc.correction('korrectud'))\n",
    "print('taketo -->', sc.correction('taketo'))\n",
    "print('mor efun -->', sc.correction('mor efun'))\n",
    "print('with out -->', sc.correction('with out'))"
   ]
  },
  {
   "cell_type": "code",
   "execution_count": null,
   "metadata": {},
   "outputs": [],
   "source": []
  }
 ],
 "metadata": {
  "kernelspec": {
   "display_name": "Python 3",
   "language": "python",
   "name": "python3"
  },
  "language_info": {
   "codemirror_mode": {
    "name": "ipython",
    "version": 3
   },
   "file_extension": ".py",
   "mimetype": "text/x-python",
   "name": "python",
   "nbconvert_exporter": "python",
   "pygments_lexer": "ipython3",
   "version": "3.7.5"
  }
 },
 "nbformat": 4,
 "nbformat_minor": 2
}
