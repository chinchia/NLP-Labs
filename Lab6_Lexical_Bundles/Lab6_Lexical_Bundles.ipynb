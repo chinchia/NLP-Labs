{
 "cells": [
  {
   "cell_type": "markdown",
   "metadata": {},
   "source": [
    "# Level A : get the most common lexical bundles"
   ]
  },
  {
   "cell_type": "code",
   "execution_count": 1,
   "metadata": {},
   "outputs": [],
   "source": [
    "import re\n",
    "from collections import Counter\n",
    "import numpy as np"
   ]
  },
  {
   "cell_type": "code",
   "execution_count": 2,
   "metadata": {},
   "outputs": [],
   "source": [
    "with open('ocw.1m', 'r', encoding='utf8') as f:\n",
    "    text = f.read()"
   ]
  },
  {
   "cell_type": "code",
   "execution_count": 3,
   "metadata": {},
   "outputs": [],
   "source": [
    "def words(text):\n",
    "    return re.findall(r'\\w+', text.lower())"
   ]
  },
  {
   "cell_type": "code",
   "execution_count": 4,
   "metadata": {},
   "outputs": [],
   "source": [
    "def four_gram(text):\n",
    "    four_words = []\n",
    "    word = words(text)\n",
    "    for i in range(len(word)-3):\n",
    "        four_words.append(word[i] + ' ' + word[i+1] + ' '  + word[i+2] + ' '  + word[i+3])\n",
    "        \n",
    "    return four_words"
   ]
  },
  {
   "cell_type": "code",
   "execution_count": 5,
   "metadata": {},
   "outputs": [],
   "source": [
    "lexical_bundles = Counter(four_gram(text))"
   ]
  },
  {
   "cell_type": "code",
   "execution_count": 6,
   "metadata": {},
   "outputs": [],
   "source": [
    "constraint = 40 / 1e6\n",
    "N = len(words(text))\n",
    "\n",
    "del_key = []\n",
    "for k,v in lexical_bundles.items():\n",
    "    if v/N <= constraint:\n",
    "        del_key.append(k)"
   ]
  },
  {
   "cell_type": "code",
   "execution_count": 7,
   "metadata": {},
   "outputs": [],
   "source": [
    "for i in range(len(del_key)):\n",
    "    del lexical_bundles[del_key[i]]"
   ]
  },
  {
   "cell_type": "code",
   "execution_count": 8,
   "metadata": {},
   "outputs": [
    {
     "data": {
      "text/plain": [
       "[('i m going to', 586),\n",
       " ('we re going to', 486),\n",
       " ('you re going to', 204),\n",
       " ('it s going to', 200),\n",
       " ('s going to be', 186),\n",
       " ('the end of the', 167),\n",
       " ('is going to be', 162),\n",
       " ('i don t know', 150),\n",
       " ('they re going to', 137),\n",
       " ('00 00 00 professor', 124),\n",
       " ('at the end of', 117),\n",
       " ('end of transcript chapter', 116),\n",
       " ('of transcript chapter 1', 116),\n",
       " ('professor douglas w rae', 116),\n",
       " ('at the same time', 113),\n",
       " ('and you can see', 109),\n",
       " ('that s going to', 99),\n",
       " ('i think it s', 96),\n",
       " ('you can see that', 94),\n",
       " ('re going to be', 91)]"
      ]
     },
     "execution_count": 8,
     "metadata": {},
     "output_type": "execute_result"
    }
   ],
   "source": [
    "lexical_bundles.most_common(20)"
   ]
  },
  {
   "cell_type": "markdown",
   "metadata": {},
   "source": [
    "# Level B : get the better lexical bundles"
   ]
  },
  {
   "cell_type": "code",
   "execution_count": 9,
   "metadata": {},
   "outputs": [],
   "source": [
    "# grammar"
   ]
  },
  {
   "cell_type": "code",
   "execution_count": 10,
   "metadata": {},
   "outputs": [],
   "source": [
    "with open('ocw.pos.1m', 'r', encoding='utf8') as f:\n",
    "    grammar = f.read().splitlines()\n",
    "    for i in range(len(grammar)):\n",
    "        grammar[i] = ' '.join(words(grammar[i]))\n",
    "        grammar[i] = grammar[i].replace(' punct','').replace('punct ','')"
   ]
  },
  {
   "cell_type": "code",
   "execution_count": 11,
   "metadata": {},
   "outputs": [],
   "source": [
    "good_grammar = ['VERB VERB PART VERB', 'ADP PRON VERB ADP', 'DET NOUN ADP DET', 'ADP DET NOUN ADP', 'ADP NOUN ADP DET']"
   ]
  },
  {
   "cell_type": "code",
   "execution_count": 12,
   "metadata": {},
   "outputs": [],
   "source": [
    "del_key = []\n",
    "for k, v in lexical_bundles.items():\n",
    "    pos = [i for i, s in enumerate(grammar) if k in s]\n",
    "    if len(pos) > 0:\n",
    "        try:\n",
    "            ind = four_gram(grammar[pos[0]]).index(k)\n",
    "            part = four_gram(grammar[pos[0]+1])[ind]\n",
    "            if part.upper() not in good_grammar:\n",
    "                del_key.append(k)\n",
    "        except:\n",
    "            continue"
   ]
  },
  {
   "cell_type": "code",
   "execution_count": 13,
   "metadata": {},
   "outputs": [],
   "source": [
    "for i in range(len(del_key)):\n",
    "    del lexical_bundles[del_key[i]]"
   ]
  },
  {
   "cell_type": "code",
   "execution_count": 14,
   "metadata": {},
   "outputs": [
    {
     "data": {
      "text/plain": [
       "[('s going to be', 186),\n",
       " ('the end of the', 167),\n",
       " ('is going to be', 162),\n",
       " ('i don t know', 150),\n",
       " ('at the end of', 117),\n",
       " ('end of transcript chapter', 116),\n",
       " ('of transcript chapter 1', 116),\n",
       " ('re going to be', 91),\n",
       " ('you don t have', 89),\n",
       " ('the way in which', 88),\n",
       " ('don t want to', 87),\n",
       " ('don t have to', 83),\n",
       " ('if you look at', 80),\n",
       " ('i don t think', 65),\n",
       " ('the rest of the', 62),\n",
       " ('in the case of', 58),\n",
       " ('are going to be', 58),\n",
       " ('it s not a', 54),\n",
       " ('re going to have', 54),\n",
       " ('i don t want', 54)]"
      ]
     },
     "execution_count": 14,
     "metadata": {},
     "output_type": "execute_result"
    }
   ],
   "source": [
    "lexical_bundles.most_common(20)"
   ]
  },
  {
   "cell_type": "code",
   "execution_count": 15,
   "metadata": {},
   "outputs": [],
   "source": [
    "# idioms"
   ]
  },
  {
   "cell_type": "code",
   "execution_count": 16,
   "metadata": {},
   "outputs": [],
   "source": [
    "with open('oxford.4gram.txt', 'r', encoding='utf8') as f:\n",
    "    idioms = f.read().splitlines()"
   ]
  },
  {
   "cell_type": "code",
   "execution_count": 17,
   "metadata": {},
   "outputs": [],
   "source": [
    "idioms_list = []\n",
    "for i in idioms:\n",
    "    i = i.split('\\t')\n",
    "    idioms_list.append(i[0])"
   ]
  },
  {
   "cell_type": "code",
   "execution_count": 18,
   "metadata": {},
   "outputs": [],
   "source": [
    "rm_key = []\n",
    "for k, v in lexical_bundles.items():\n",
    "    if k in idioms_list:\n",
    "        rm_key.append(k)"
   ]
  },
  {
   "cell_type": "code",
   "execution_count": 19,
   "metadata": {},
   "outputs": [],
   "source": [
    "for i in range(len(rm_key)):\n",
    "    del lexical_bundles[rm_key[i]]"
   ]
  },
  {
   "cell_type": "code",
   "execution_count": 20,
   "metadata": {},
   "outputs": [
    {
     "data": {
      "text/plain": [
       "[('s going to be', 186),\n",
       " ('is going to be', 162),\n",
       " ('i don t know', 150),\n",
       " ('end of transcript chapter', 116),\n",
       " ('of transcript chapter 1', 116),\n",
       " ('re going to be', 91),\n",
       " ('you don t have', 89),\n",
       " ('don t want to', 87),\n",
       " ('don t have to', 83),\n",
       " ('if you look at', 80),\n",
       " ('i don t think', 65),\n",
       " ('in the case of', 58),\n",
       " ('it s not a', 54),\n",
       " ('re going to have', 54),\n",
       " ('i don t want', 54),\n",
       " ('s one of the', 52),\n",
       " ('if you don t', 51),\n",
       " ('re going to get', 49),\n",
       " ('what s going to', 48),\n",
       " ('m going to do', 46)]"
      ]
     },
     "execution_count": 20,
     "metadata": {},
     "output_type": "execute_result"
    }
   ],
   "source": [
    "lexical_bundles.most_common(20)"
   ]
  },
  {
   "cell_type": "code",
   "execution_count": 21,
   "metadata": {},
   "outputs": [],
   "source": [
    "# distribution: at least 5 in 100"
   ]
  },
  {
   "cell_type": "code",
   "execution_count": 22,
   "metadata": {},
   "outputs": [],
   "source": [
    "chunk_size = int(N / 100)\n",
    "total_text = [words(text)[x:x+chunk_size] for x in range(0, N, chunk_size)]\n",
    "total_text = [' '.join(x) for x in total_text]"
   ]
  },
  {
   "cell_type": "code",
   "execution_count": 23,
   "metadata": {},
   "outputs": [],
   "source": [
    "del_key = []\n",
    "for k, v in lexical_bundles.items():\n",
    "    count = 0\n",
    "    for t in total_text:\n",
    "        if k in t:\n",
    "            count += 1\n",
    "    if count < 5:\n",
    "        del_key.append(k)"
   ]
  },
  {
   "cell_type": "code",
   "execution_count": 24,
   "metadata": {},
   "outputs": [],
   "source": [
    "for i in range(len(del_key)):\n",
    "    del lexical_bundles[del_key[i]]"
   ]
  },
  {
   "cell_type": "code",
   "execution_count": 25,
   "metadata": {},
   "outputs": [
    {
     "data": {
      "text/plain": [
       "[('s going to be', 186),\n",
       " ('is going to be', 162),\n",
       " ('i don t know', 150),\n",
       " ('end of transcript chapter', 116),\n",
       " ('of transcript chapter 1', 116),\n",
       " ('re going to be', 91),\n",
       " ('you don t have', 89),\n",
       " ('don t want to', 87),\n",
       " ('don t have to', 83),\n",
       " ('if you look at', 80),\n",
       " ('i don t think', 65),\n",
       " ('in the case of', 58),\n",
       " ('it s not a', 54),\n",
       " ('re going to have', 54),\n",
       " ('i don t want', 54),\n",
       " ('s one of the', 52),\n",
       " ('if you don t', 51),\n",
       " ('re going to get', 49),\n",
       " ('what s going to', 48),\n",
       " ('m going to do', 46)]"
      ]
     },
     "execution_count": 25,
     "metadata": {},
     "output_type": "execute_result"
    }
   ],
   "source": [
    "lexical_bundles.most_common(20)"
   ]
  },
  {
   "cell_type": "code",
   "execution_count": null,
   "metadata": {},
   "outputs": [],
   "source": []
  }
 ],
 "metadata": {
  "kernelspec": {
   "display_name": "Python 3",
   "language": "python",
   "name": "python3"
  },
  "language_info": {
   "codemirror_mode": {
    "name": "ipython",
    "version": 3
   },
   "file_extension": ".py",
   "mimetype": "text/x-python",
   "name": "python",
   "nbconvert_exporter": "python",
   "pygments_lexer": "ipython3",
   "version": "3.7.4"
  }
 },
 "nbformat": 4,
 "nbformat_minor": 2
}
