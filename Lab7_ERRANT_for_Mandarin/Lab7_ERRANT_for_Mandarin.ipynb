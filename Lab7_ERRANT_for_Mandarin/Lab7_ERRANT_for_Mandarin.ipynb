{
 "cells": [
  {
   "cell_type": "markdown",
   "metadata": {},
   "source": [
    "## ERRANT for Mandarin GEC\n",
    "\n",
    "### References\n",
    "#### https://github.com/getao/errant2. \n",
    "#### https://www.aclweb.org/anthology/P17-1074/3. \n",
    "#### https://www.repository.cam.ac.uk/handle/1810/293719\n",
    "#### https://github.com/ckiplab/ckiptagger (install and download model files)"
   ]
  },
  {
   "cell_type": "markdown",
   "metadata": {},
   "source": [
    "# Using CkipTagger\n",
    "中研院斷詞工具"
   ]
  },
  {
   "cell_type": "code",
   "execution_count": 1,
   "metadata": {},
   "outputs": [],
   "source": [
    "# Visit https://github.com/ckiplab/ckiptagger to install and download model files\n",
    "from ckiptagger import data_utils, construct_dictionary, WS, POS, NER\n",
    "import numpy as np\n",
    "import nltk\n",
    "\n",
    "ws = WS(\"/home/ginger/practice_7/ckiptagger/data\")\n",
    "pos = POS(\"/home/ginger/practice_7/ckiptagger/data\")"
   ]
  },
  {
   "cell_type": "code",
   "execution_count": 2,
   "metadata": {},
   "outputs": [
    {
     "name": "stdout",
     "output_type": "stream",
     "text": [
      "這 也 間接 突顯出 鴻海\n",
      "也 直接 透露出 鴻海\n"
     ]
    }
   ],
   "source": [
    "import re\n",
    "def before_edit(text):\n",
    "    return re.sub('(\\[\\-|\\-\\]|\\{\\+.*?\\+\\})', '', text)\n",
    "    \n",
    "def after_edit(text):\n",
    "    return re.sub('\\[\\-.*?\\-\\]|\\{\\+|\\+\\}', '', text)\n",
    "\n",
    "text = '[-這-]也[-間-][-接-]{+直+}{+接+}{+透露+}{+出+}[-突-][-顯-][-出-]鴻海'\n",
    "\n",
    "text_before = ' '.join(ws(before_edit(text).splitlines())[0])\n",
    "print (text_before)\n",
    "\n",
    "text_after = ' '.join(ws(after_edit(text).splitlines())[0])\n",
    "print (text_after)"
   ]
  },
  {
   "cell_type": "markdown",
   "metadata": {},
   "source": [
    "# [Step 1] 加入詞性參考 by ckip\n",
    "input\n",
    "``` Python\n",
    "text = '這也間接突顯出鴻海'\n",
    "text = '也直接透露出鴻海'\n",
    "\n",
    "```\n",
    "return\n",
    "``` Python\n",
    "[('這', 'Nep'), ('也', 'D'), ('間接', 'D'), ('突顯出', 'VJ'), ('鴻海', 'Nb')]\n",
    "[('也', 'D'), ('直接', 'VH'), ('透露出', 'VK'), ('鴻海', 'Nb')]\n",
    "```"
   ]
  },
  {
   "cell_type": "code",
   "execution_count": 3,
   "metadata": {},
   "outputs": [
    {
     "name": "stdout",
     "output_type": "stream",
     "text": [
      "[('這', 'Nep'), ('也', 'D'), ('間接', 'D'), ('突顯出', 'VJ'), ('鴻海', 'Nb')]\n",
      "[('也', 'D'), ('直接', 'VH'), ('透露出', 'VK'), ('鴻海', 'Nb')]\n"
     ]
    }
   ],
   "source": [
    "def seg_pos(text):\n",
    "    ##### Your code here #####\n",
    "    return [(x,y) for x,y in zip(ws([text])[0],pos(ws([text]))[0])]\n",
    "\n",
    "print (seg_pos(before_edit(text)))\n",
    "print (seg_pos(after_edit(text)))"
   ]
  },
  {
   "cell_type": "code",
   "execution_count": 4,
   "metadata": {},
   "outputs": [
    {
     "data": {
      "text/plain": [
       "([('這', 'Nep'), ('也', 'D'), ('間接', 'D'), ('突顯出', 'VJ'), ('鴻海', 'Nb')],\n",
       " [('也', 'D'), ('直接', 'VH'), ('透露出', 'VK'), ('鴻海', 'Nb')])"
      ]
     },
     "execution_count": 4,
     "metadata": {},
     "output_type": "execute_result"
    }
   ],
   "source": [
    "sent_orig = seg_pos(before_edit(text))\n",
    "sent_correct = seg_pos(after_edit(text)) \n",
    "sent_orig, sent_correct"
   ]
  },
  {
   "cell_type": "markdown",
   "metadata": {},
   "source": [
    "# [Strp 2] 計算 edit cost 返回cost_matrix, op_matrix\n",
    "`Hint:[Strp 2]會呼叫[Strp 3]的方法，Cost可以自己調整`\n",
    "\n",
    "```\n",
    "M是Match\n",
    "I是insert cost\n",
    "D是delete cost\n",
    "R是replace cost\n",
    "I/D是insert和delete相加的cost\n",
    "```\n",
    "input\n",
    "``` Python\n",
    "orig = [('這', 'Nep'), ('也', 'D'), ('間接', 'D'), ('突顯出', 'VJ'), ('鴻海', 'Nb')]\n",
    "cor = [('也', 'D'), ('直接', 'VH'), ('透露出', 'VK'), ('鴻海', 'Nb')]\n",
    "\n",
    "```\n",
    "return\n",
    "``` Python\n",
    "cost_matrix = \n",
    " [[0, 2, 4, 5, 4],\n",
    "  [4, 6, 8, 9, 8],\n",
    "  [2, 0, 6, 7, 6],\n",
    "  [3, 5, 5, 8, 7],\n",
    "  [5, 7, 8, 5, 8],\n",
    "  [4, 6, 8, 9, 0]]\n",
    "    \n",
    "op_matrix =\n",
    " [['O', 'I', 'I', 'I', 'I'],\n",
    "  ['D', 'I/D', 'I/D', 'I/D', 'I/D'],\n",
    "  ['D', 'M', 'I/D', 'I/D', 'I/D'],\n",
    "  ['D', 'I/D', 'R', 'I/D', 'I/D'],\n",
    "  ['D', 'I/D', 'R', 'R', 'R'],\n",
    "  ['D', 'I/D', 'I/D', 'I/D', 'M']]\n",
    "```"
   ]
  },
  {
   "cell_type": "code",
   "execution_count": 5,
   "metadata": {},
   "outputs": [],
   "source": [
    "def calculate_edit_cost(orig, cor):\n",
    "    o_len = len(orig)\n",
    "    c_len = len(cor)\n",
    "    # Create the cost_matrix and the op_matrix\n",
    "    cost_matrix = [[0 for j in range(c_len+1)] for i in range(o_len+1)]\n",
    "    op_matrix = [[\"O\" for j in range(c_len+1)] for i in range(o_len+1)]\n",
    "    # Fill in the edges\n",
    "    for i in range(1, o_len+1):\n",
    "        cost_matrix[i][0] = nltk.edit_distance(orig[i-1][1] + orig[i-1][0], '')\n",
    "        op_matrix[i][0] = \"D\"\n",
    "    for j in range(1, c_len+1):\n",
    "        cost_matrix[0][j] = nltk.edit_distance('', cor[j-1][1] + cor[j-1][0])\n",
    "        op_matrix[0][j] = \"I\"\n",
    "\n",
    "    # Loop through the cost_matrix\n",
    "    for i in range(o_len):\n",
    "        for j in range(c_len):\n",
    "            # Matches\n",
    "            if orig[i] == cor[j]:\n",
    "                cost_matrix[i+1][j+1] = 0\n",
    "                op_matrix[i+1][j+1] = \"M\"\n",
    "            # Non-matches\n",
    "            else:\n",
    "                ##### Your code here #####\n",
    "                sub_cost = get_sub_cost(orig[i], cor[j]) + abs(i-j)\n",
    "                ID_cost = cost_matrix[i+1][0] + cost_matrix[0][j+1]\n",
    "                if sub_cost < ID_cost:\n",
    "                    op_matrix[i+1][j+1] = 'R'\n",
    "                    cost_matrix[i+1][j+1] = sub_cost\n",
    "                else:\n",
    "                    op_matrix[i+1][j+1] = 'I/D'\n",
    "                    cost_matrix[i+1][j+1] = ID_cost\n",
    "                \n",
    "    # Return the matrices\n",
    "    return cost_matrix, op_matrix"
   ]
  },
  {
   "cell_type": "markdown",
   "metadata": {},
   "source": [
    "# [Strp 3] 計算Replace的cost\n",
    "嘗試找出可能可以計算cost的方式，例如檢查詞性、詞的長度或詞的差異等，最後將所有的cost相加回傳。\n",
    "\n",
    "`Hint 要給多少Cost可以自己設定`\n",
    "\n",
    "input\n",
    "``` Python\n",
    "orig = ('突顯出', 'VJ')\n",
    "cor = ('透露出', 'VK')\n",
    "\n",
    "```\n",
    "return cost"
   ]
  },
  {
   "cell_type": "code",
   "execution_count": 6,
   "metadata": {},
   "outputs": [],
   "source": [
    "def get_sub_cost(o, c):\n",
    "    if o == c: return 0\n",
    "    ##### Your code here #####\n",
    "    cost = 0\n",
    "    o = list(o)\n",
    "    c = list(c)\n",
    "    \n",
    "    # word\n",
    "    # compare length\n",
    "    if len(o[0]) < len(c[0]):\n",
    "        cost += 1\n",
    "        o[0] += ' ' * (len(c[0])-len(o[0]))\n",
    "    elif len(o[0]) > len(c[0]):\n",
    "        cost += 1\n",
    "        c[0] += ' ' * (len(o[0])-len(c[0]))\n",
    "    # compare difference\n",
    "    for i in range(len(o[0])):\n",
    "        if c[0][i] != o[0][i]:\n",
    "            cost += 1\n",
    "    \n",
    "    # part of speech\n",
    "    if len(o[1]) < len(c[1]):\n",
    "        o[1] += ' ' * (len(c[1])-len(o[1]))\n",
    "    elif len(o[1]) > len(c[1]):\n",
    "        c[1] += ' ' * (len(o[1])-len(c[1]))\n",
    "    # compare difference\n",
    "    for j in range(len(o[1])):\n",
    "        if c[1][j] != o[1][j]:\n",
    "            cost += 2\n",
    "        \n",
    "    return cost"
   ]
  },
  {
   "cell_type": "code",
   "execution_count": 7,
   "metadata": {},
   "outputs": [
    {
     "data": {
      "text/plain": [
       "([[0, 2, 4, 5, 4],\n",
       "  [4, 6, 8, 9, 8],\n",
       "  [2, 0, 6, 7, 6],\n",
       "  [3, 5, 6, 8, 7],\n",
       "  [5, 7, 8, 5, 8],\n",
       "  [4, 6, 8, 9, 0]],\n",
       " [['O', 'I', 'I', 'I', 'I'],\n",
       "  ['D', 'I/D', 'I/D', 'I/D', 'I/D'],\n",
       "  ['D', 'M', 'I/D', 'I/D', 'I/D'],\n",
       "  ['D', 'I/D', 'R', 'I/D', 'I/D'],\n",
       "  ['D', 'I/D', 'R', 'R', 'R'],\n",
       "  ['D', 'I/D', 'I/D', 'I/D', 'M']])"
      ]
     },
     "execution_count": 7,
     "metadata": {},
     "output_type": "execute_result"
    }
   ],
   "source": [
    "calculate_edit_cost(sent_orig, sent_correct)"
   ]
  },
  {
   "cell_type": "markdown",
   "metadata": {},
   "source": [
    "# [Step 4] format cost_matrix and op_matrix\n",
    "\n",
    "return\n",
    "``` Python\n",
    "[(0, 'D', '這'), (2, 'R', '間接', '直接'), (3, 'R', '突顯出', '透露出')]\n",
    "```"
   ]
  },
  {
   "cell_type": "code",
   "execution_count": 8,
   "metadata": {},
   "outputs": [],
   "source": [
    "def format_align(cost_matrix, op_matrix, orig, cor):\n",
    "    ##### Your code here #####\n",
    "    output = []\n",
    "    \n",
    "    for i in range(len(op_matrix)):\n",
    "        \n",
    "        # if no replacement and no match, then delete\n",
    "        if op_matrix[i][0] == 'D':\n",
    "            if ('R' not in op_matrix[i]) and ('M' not in op_matrix[i]):\n",
    "                output.append((i-1, 'D', orig[i-1]))\n",
    "        \n",
    "        # if replace, get word which has min_cost as replacement\n",
    "        min_cost = 99\n",
    "        if 'R' in op_matrix[i]:\n",
    "            for j in range(len(op_matrix[i])):\n",
    "                if op_matrix[i][j] == 'R':\n",
    "                    if cost_matrix[i][j] < min_cost:\n",
    "                        min_cost = cost_matrix[i][j]\n",
    "                        pos, new_pos = i, j\n",
    "            output.append((i-1, 'R', orig[pos-1], cor[new_pos-1]))\n",
    "        \n",
    "    return output"
   ]
  },
  {
   "cell_type": "code",
   "execution_count": 9,
   "metadata": {},
   "outputs": [
    {
     "name": "stdout",
     "output_type": "stream",
     "text": [
      "['這', '也', '間接', '突顯出', '鴻海']\n",
      "['也', '直接', '透露出', '鴻海']\n"
     ]
    },
    {
     "data": {
      "text/plain": [
       "[(0, 'D', '這'), (2, 'R', '間接', '直接'), (3, 'R', '突顯出', '透露出')]"
      ]
     },
     "execution_count": 9,
     "metadata": {},
     "output_type": "execute_result"
    }
   ],
   "source": [
    "s = ws(before_edit(text).splitlines())[0]\n",
    "t = ws(after_edit(text).splitlines())[0]\n",
    "print(s)\n",
    "print(t)\n",
    "cost_matrix, op_matrix = calculate_edit_cost(sent_orig, sent_correct)\n",
    "format_align(cost_matrix, op_matrix, s, t)"
   ]
  },
  {
   "cell_type": "code",
   "execution_count": null,
   "metadata": {},
   "outputs": [],
   "source": []
  }
 ],
 "metadata": {
  "kernelspec": {
   "display_name": "Python 3",
   "language": "python",
   "name": "python3"
  },
  "language_info": {
   "codemirror_mode": {
    "name": "ipython",
    "version": 3
   },
   "file_extension": ".py",
   "mimetype": "text/x-python",
   "name": "python",
   "nbconvert_exporter": "python",
   "pygments_lexer": "ipython3",
   "version": "3.6.10"
  }
 },
 "nbformat": 4,
 "nbformat_minor": 4
}
